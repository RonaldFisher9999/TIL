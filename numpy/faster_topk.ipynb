{
 "cells": [
  {
   "cell_type": "markdown",
   "id": "bc8dfc4b",
   "metadata": {},
   "source": [
    "## Faster Top-k With Numpy\n",
    "- Using `np.argpartition` is generally faster than `np.argsort` for selecting the top-k values.\n",
    "- This is because `np.argpartition` partially sorts the array and focuses only on the boundary between the top-k and the rest, rather than fully sorting all elements.\n",
    "- After partitioning, you can sort just the selected top-k values.\n",
    "- This approach is conceptually similar to PyTorch’s `torch.topk`."
   ]
  },
  {
   "cell_type": "code",
   "execution_count": null,
   "id": "d17b3185",
   "metadata": {},
   "outputs": [],
   "source": [
    "import os\n",
    "import sys\n",
    "\n",
    "sys.path.append(os.path.abspath(os.path.join('..')))\n",
    "\n",
    "import numpy as np\n",
    "import torch\n",
    "\n",
    "from utils import measure_exec_time"
   ]
  },
  {
   "cell_type": "code",
   "execution_count": 3,
   "id": "e9f1561d",
   "metadata": {},
   "outputs": [],
   "source": [
    "def naive_topk(arr: np.ndarray, k: int) -> tuple[np.ndarray, np.ndarray]:\n",
    "    indices = np.argsort(-arr, axis=-1)[..., :k]\n",
    "    return np.take_along_axis(arr, indices, axis=-1), indices\n",
    "\n",
    "\n",
    "def faster_topk(arr: np.ndarray, k: int) -> tuple[np.ndarray, np.ndarray]:\n",
    "    partition_indices = np.argpartition(arr, -k, axis=-1)[..., -k:]\n",
    "    partition_values = np.take_along_axis(arr, partition_indices, axis=-1)\n",
    "    sort_order = np.argsort(partition_values, axis=-1)[..., ::-1]\n",
    "    topk_values = np.take_along_axis(partition_values, sort_order, axis=-1)\n",
    "    topk_indices = np.take_along_axis(partition_indices, sort_order, axis=-1)\n",
    "\n",
    "    return topk_values, topk_indices"
   ]
  },
  {
   "cell_type": "code",
   "execution_count": 4,
   "id": "8899675d",
   "metadata": {},
   "outputs": [
    {
     "name": "stdout",
     "output_type": "stream",
     "text": [
      "Naive topk\n",
      "Mean: 4.095 ms, Std: 0.126 ms\n",
      "Faster topk\n",
      "Mean: 1.249 ms, Std: 0.059 ms\n"
     ]
    }
   ],
   "source": [
    "# Compare with naive argsort method.\n",
    "arr = np.random.randn(100, 1000)\n",
    "k = 100\n",
    "print(\"Naive topk\")\n",
    "measure_exec_time(naive_topk, arr, k)\n",
    "print(\"Faster topk\")\n",
    "measure_exec_time(faster_topk, arr, k)"
   ]
  },
  {
   "cell_type": "code",
   "execution_count": 16,
   "id": "7862ea94",
   "metadata": {},
   "outputs": [
    {
     "data": {
      "text/plain": [
       "True"
      ]
     },
     "execution_count": 16,
     "metadata": {},
     "output_type": "execute_result"
    }
   ],
   "source": [
    "# Compare with torch.topk result.\n",
    "np_values, np_indices = faster_topk(arr, k)\n",
    "t = torch.from_numpy(arr)\n",
    "torch_values, torch_indices = torch.topk(t, k=k)\n",
    "np_indices.flatten().tolist() == torch_indices.flatten().tolist()"
   ]
  }
 ],
 "metadata": {
  "kernelspec": {
   "display_name": ".venv",
   "language": "python",
   "name": "python3"
  },
  "language_info": {
   "codemirror_mode": {
    "name": "ipython",
    "version": 3
   },
   "file_extension": ".py",
   "mimetype": "text/x-python",
   "name": "python",
   "nbconvert_exporter": "python",
   "pygments_lexer": "ipython3",
   "version": "3.11.11"
  }
 },
 "nbformat": 4,
 "nbformat_minor": 5
}
