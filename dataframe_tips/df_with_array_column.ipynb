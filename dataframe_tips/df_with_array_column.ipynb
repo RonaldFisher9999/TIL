{
 "cells": [
  {
   "cell_type": "markdown",
   "id": "67481992",
   "metadata": {},
   "source": [
    "## Creating Pandas DataFrames with Numpy Arrays\n",
    "- Pandas columns must be 1-dimensional, so multi-dimensional arrays cause a `ValueError: Per-column arrays must each be 1-dimensional`.\n",
    "- Convert each row’s array to a list-like structure to store multi-dimensional data in Pandas.\n",
    "- Polars can natively handle multi-dimensional arrays without throwing an error."
   ]
  },
  {
   "cell_type": "code",
   "execution_count": 1,
   "id": "b8aef621",
   "metadata": {},
   "outputs": [],
   "source": [
    "import os\n",
    "import sys\n",
    "\n",
    "sys.path.append(os.path.abspath(os.path.join('..')))\n",
    "\n",
    "import numpy as np\n",
    "import pandas as pd\n",
    "import polars as pl"
   ]
  },
  {
   "cell_type": "code",
   "execution_count": 2,
   "id": "e209da73",
   "metadata": {},
   "outputs": [],
   "source": [
    "keys = np.arange(10)\n",
    "arrays = np.random.randn(10, 8)"
   ]
  },
  {
   "cell_type": "code",
   "execution_count": 3,
   "id": "1d77a805",
   "metadata": {},
   "outputs": [
    {
     "name": "stdout",
     "output_type": "stream",
     "text": [
      "Per-column arrays must each be 1-dimensional\n"
     ]
    }
   ],
   "source": [
    "try:\n",
    "    df = pd.DataFrame({'key': keys, 'arr': arrays})\n",
    "except ValueError as e:\n",
    "    print(e)"
   ]
  },
  {
   "cell_type": "code",
   "execution_count": 4,
   "id": "313ba1ff",
   "metadata": {},
   "outputs": [
    {
     "data": {
      "text/html": [
       "<div>\n",
       "<style scoped>\n",
       "    .dataframe tbody tr th:only-of-type {\n",
       "        vertical-align: middle;\n",
       "    }\n",
       "\n",
       "    .dataframe tbody tr th {\n",
       "        vertical-align: top;\n",
       "    }\n",
       "\n",
       "    .dataframe thead th {\n",
       "        text-align: right;\n",
       "    }\n",
       "</style>\n",
       "<table border=\"1\" class=\"dataframe\">\n",
       "  <thead>\n",
       "    <tr style=\"text-align: right;\">\n",
       "      <th></th>\n",
       "      <th>key</th>\n",
       "      <th>arr</th>\n",
       "    </tr>\n",
       "  </thead>\n",
       "  <tbody>\n",
       "    <tr>\n",
       "      <th>0</th>\n",
       "      <td>0</td>\n",
       "      <td>[-1.3566381558100145, -0.640178091800231, -0.1...</td>\n",
       "    </tr>\n",
       "    <tr>\n",
       "      <th>1</th>\n",
       "      <td>1</td>\n",
       "      <td>[1.177178798297101, -0.8990092603738802, 0.412...</td>\n",
       "    </tr>\n",
       "    <tr>\n",
       "      <th>2</th>\n",
       "      <td>2</td>\n",
       "      <td>[-0.3665163222087579, 0.8754014418501139, 0.10...</td>\n",
       "    </tr>\n",
       "    <tr>\n",
       "      <th>3</th>\n",
       "      <td>3</td>\n",
       "      <td>[-0.20624980300105303, -0.025571766986585854, ...</td>\n",
       "    </tr>\n",
       "    <tr>\n",
       "      <th>4</th>\n",
       "      <td>4</td>\n",
       "      <td>[-0.29369920857865595, 0.02050509135443522, 3....</td>\n",
       "    </tr>\n",
       "    <tr>\n",
       "      <th>5</th>\n",
       "      <td>5</td>\n",
       "      <td>[0.5523453368618929, 1.8193734784569158, 0.019...</td>\n",
       "    </tr>\n",
       "    <tr>\n",
       "      <th>6</th>\n",
       "      <td>6</td>\n",
       "      <td>[2.079679039930945, -0.42303257446514725, -0.3...</td>\n",
       "    </tr>\n",
       "    <tr>\n",
       "      <th>7</th>\n",
       "      <td>7</td>\n",
       "      <td>[1.9016838934223732, 0.42065202386339146, -0.9...</td>\n",
       "    </tr>\n",
       "    <tr>\n",
       "      <th>8</th>\n",
       "      <td>8</td>\n",
       "      <td>[0.552635124033911, 0.016928258104264807, 2.97...</td>\n",
       "    </tr>\n",
       "    <tr>\n",
       "      <th>9</th>\n",
       "      <td>9</td>\n",
       "      <td>[0.7902853183725788, 1.2133577177620076, -0.57...</td>\n",
       "    </tr>\n",
       "  </tbody>\n",
       "</table>\n",
       "</div>"
      ],
      "text/plain": [
       "   key                                                arr\n",
       "0    0  [-1.3566381558100145, -0.640178091800231, -0.1...\n",
       "1    1  [1.177178798297101, -0.8990092603738802, 0.412...\n",
       "2    2  [-0.3665163222087579, 0.8754014418501139, 0.10...\n",
       "3    3  [-0.20624980300105303, -0.025571766986585854, ...\n",
       "4    4  [-0.29369920857865595, 0.02050509135443522, 3....\n",
       "5    5  [0.5523453368618929, 1.8193734784569158, 0.019...\n",
       "6    6  [2.079679039930945, -0.42303257446514725, -0.3...\n",
       "7    7  [1.9016838934223732, 0.42065202386339146, -0.9...\n",
       "8    8  [0.552635124033911, 0.016928258104264807, 2.97...\n",
       "9    9  [0.7902853183725788, 1.2133577177620076, -0.57..."
      ]
     },
     "execution_count": 4,
     "metadata": {},
     "output_type": "execute_result"
    }
   ],
   "source": [
    "arr_list = [arr for arr in arrays]\n",
    "df = pd.DataFrame(data = {'key': keys, 'arr': arr_list})\n",
    "df"
   ]
  },
  {
   "cell_type": "code",
   "execution_count": null,
   "id": "d918693b",
   "metadata": {},
   "outputs": [
    {
     "data": {
      "text/html": [
       "<div><style>\n",
       ".dataframe > thead > tr,\n",
       ".dataframe > tbody > tr {\n",
       "  text-align: right;\n",
       "  white-space: pre-wrap;\n",
       "}\n",
       "</style>\n",
       "<small>shape: (10, 2)</small><table border=\"1\" class=\"dataframe\"><thead><tr><th>key</th><th>arr</th></tr><tr><td>i32</td><td>array[f64, 8]</td></tr></thead><tbody><tr><td>0</td><td>[-1.356638,&nbsp;-0.640178,&nbsp;…&nbsp;1.739957]</td></tr><tr><td>1</td><td>[1.177179,&nbsp;-0.899009,&nbsp;…&nbsp;0.994193]</td></tr><tr><td>2</td><td>[-0.366516,&nbsp;0.875401,&nbsp;…&nbsp;0.710587]</td></tr><tr><td>3</td><td>[-0.20625,&nbsp;-0.025572,&nbsp;…&nbsp;-0.534864]</td></tr><tr><td>4</td><td>[-0.293699,&nbsp;0.020505,&nbsp;…&nbsp;0.966045]</td></tr><tr><td>5</td><td>[0.552345,&nbsp;1.819373,&nbsp;…&nbsp;-0.792055]</td></tr><tr><td>6</td><td>[2.079679,&nbsp;-0.423033,&nbsp;…&nbsp;-0.116248]</td></tr><tr><td>7</td><td>[1.901684,&nbsp;0.420652,&nbsp;…&nbsp;-0.450094]</td></tr><tr><td>8</td><td>[0.552635,&nbsp;0.016928,&nbsp;…&nbsp;-0.4476]</td></tr><tr><td>9</td><td>[0.790285,&nbsp;1.213358,&nbsp;…&nbsp;-0.789612]</td></tr></tbody></table></div>"
      ],
      "text/plain": [
       "shape: (10, 2)\n",
       "┌─────┬─────────────────────────────────┐\n",
       "│ key ┆ arr                             │\n",
       "│ --- ┆ ---                             │\n",
       "│ i32 ┆ array[f64, 8]                   │\n",
       "╞═════╪═════════════════════════════════╡\n",
       "│ 0   ┆ [-1.356638, -0.640178, … 1.739… │\n",
       "│ 1   ┆ [1.177179, -0.899009, … 0.9941… │\n",
       "│ 2   ┆ [-0.366516, 0.875401, … 0.7105… │\n",
       "│ 3   ┆ [-0.20625, -0.025572, … -0.534… │\n",
       "│ 4   ┆ [-0.293699, 0.020505, … 0.9660… │\n",
       "│ 5   ┆ [0.552345, 1.819373, … -0.7920… │\n",
       "│ 6   ┆ [2.079679, -0.423033, … -0.116… │\n",
       "│ 7   ┆ [1.901684, 0.420652, … -0.4500… │\n",
       "│ 8   ┆ [0.552635, 0.016928, … -0.4476… │\n",
       "│ 9   ┆ [0.790285, 1.213358, … -0.7896… │\n",
       "└─────┴─────────────────────────────────┘"
      ]
     },
     "execution_count": 5,
     "metadata": {},
     "output_type": "execute_result"
    }
   ],
   "source": [
    "# Create dataframe with Polars.\n",
    "df = pl.DataFrame({'key': keys, 'arr': arrays})\n",
    "df"
   ]
  }
 ],
 "metadata": {
  "kernelspec": {
   "display_name": ".venv",
   "language": "python",
   "name": "python3"
  },
  "language_info": {
   "codemirror_mode": {
    "name": "ipython",
    "version": 3
   },
   "file_extension": ".py",
   "mimetype": "text/x-python",
   "name": "python",
   "nbconvert_exporter": "python",
   "pygments_lexer": "ipython3",
   "version": "3.11.11"
  }
 },
 "nbformat": 4,
 "nbformat_minor": 5
}
