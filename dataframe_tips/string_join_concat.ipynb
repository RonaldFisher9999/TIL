{
 "cells": [
  {
   "cell_type": "markdown",
   "id": "494aa376",
   "metadata": {},
   "source": [
    "## String Join / Concatenate\n",
    "- To join list of strings to a single string...\n",
    "  - For Pandas, use `str.join`.\n",
    "  - If not all elements are string, it will return `NaN`.\n",
    "  - For Polars, use `list.join`.\n",
    "  - If not all elements are string, it will raise error.\n",
    "- To concat string value columns to a single column...\n",
    "  - For Pandas, use `str.cat` or `+`.\n",
    "  - For Polars, use `pl.concat_str` or `+`.\n",
    "  - Using `str.join` in Polars joins all values within column.\n",
    "  \n"
   ]
  },
  {
   "cell_type": "code",
   "execution_count": 2,
   "id": "e3969d4a",
   "metadata": {},
   "outputs": [],
   "source": [
    "import pandas as pd\n",
    "import polars as pl"
   ]
  },
  {
   "cell_type": "code",
   "execution_count": null,
   "id": "09b9edca",
   "metadata": {},
   "outputs": [],
   "source": [
    "data = {\n",
    "    'a': [['a', 'b', 'c'], ['x', 'y', 'z']],\n",
    "    'b': [[1, 2, 3], [4, 5, 6]],\n",
    "    'c': ['10', '20'],\n",
    "    'd': ['AAA', 'BBB']\n",
    "}"
   ]
  },
  {
   "cell_type": "code",
   "execution_count": 8,
   "id": "64c024a9",
   "metadata": {},
   "outputs": [
    {
     "data": {
      "text/html": [
       "<div>\n",
       "<style scoped>\n",
       "    .dataframe tbody tr th:only-of-type {\n",
       "        vertical-align: middle;\n",
       "    }\n",
       "\n",
       "    .dataframe tbody tr th {\n",
       "        vertical-align: top;\n",
       "    }\n",
       "\n",
       "    .dataframe thead th {\n",
       "        text-align: right;\n",
       "    }\n",
       "</style>\n",
       "<table border=\"1\" class=\"dataframe\">\n",
       "  <thead>\n",
       "    <tr style=\"text-align: right;\">\n",
       "      <th></th>\n",
       "      <th>a</th>\n",
       "      <th>b</th>\n",
       "      <th>c</th>\n",
       "      <th>d</th>\n",
       "    </tr>\n",
       "  </thead>\n",
       "  <tbody>\n",
       "    <tr>\n",
       "      <th>0</th>\n",
       "      <td>[a, b, c]</td>\n",
       "      <td>[1, 2, 3]</td>\n",
       "      <td>10</td>\n",
       "      <td>AAA</td>\n",
       "    </tr>\n",
       "    <tr>\n",
       "      <th>1</th>\n",
       "      <td>[x, y, z]</td>\n",
       "      <td>[4, 5, 6]</td>\n",
       "      <td>20</td>\n",
       "      <td>BBB</td>\n",
       "    </tr>\n",
       "  </tbody>\n",
       "</table>\n",
       "</div>"
      ],
      "text/plain": [
       "           a          b   c    d\n",
       "0  [a, b, c]  [1, 2, 3]  10  AAA\n",
       "1  [x, y, z]  [4, 5, 6]  20  BBB"
      ]
     },
     "execution_count": 8,
     "metadata": {},
     "output_type": "execute_result"
    }
   ],
   "source": [
    "df_pd = pd.DataFrame(data)\n",
    "df_pd"
   ]
  },
  {
   "cell_type": "code",
   "execution_count": 19,
   "id": "47c3dc1f",
   "metadata": {},
   "outputs": [
    {
     "data": {
      "text/html": [
       "<div><style>\n",
       ".dataframe > thead > tr,\n",
       ".dataframe > tbody > tr {\n",
       "  text-align: right;\n",
       "  white-space: pre-wrap;\n",
       "}\n",
       "</style>\n",
       "<small>shape: (2, 4)</small><table border=\"1\" class=\"dataframe\"><thead><tr><th>a</th><th>b</th><th>c</th><th>d</th></tr><tr><td>list[str]</td><td>list[i64]</td><td>str</td><td>str</td></tr></thead><tbody><tr><td>[&quot;a&quot;,&nbsp;&quot;b&quot;,&nbsp;&quot;c&quot;]</td><td>[1,&nbsp;2,&nbsp;3]</td><td>&quot;10&quot;</td><td>&quot;AAA&quot;</td></tr><tr><td>[&quot;x&quot;,&nbsp;&quot;y&quot;,&nbsp;&quot;z&quot;]</td><td>[4,&nbsp;5,&nbsp;6]</td><td>&quot;20&quot;</td><td>&quot;BBB&quot;</td></tr></tbody></table></div>"
      ],
      "text/plain": [
       "shape: (2, 4)\n",
       "┌─────────────────┬───────────┬─────┬─────┐\n",
       "│ a               ┆ b         ┆ c   ┆ d   │\n",
       "│ ---             ┆ ---       ┆ --- ┆ --- │\n",
       "│ list[str]       ┆ list[i64] ┆ str ┆ str │\n",
       "╞═════════════════╪═══════════╪═════╪═════╡\n",
       "│ [\"a\", \"b\", \"c\"] ┆ [1, 2, 3] ┆ 10  ┆ AAA │\n",
       "│ [\"x\", \"y\", \"z\"] ┆ [4, 5, 6] ┆ 20  ┆ BBB │\n",
       "└─────────────────┴───────────┴─────┴─────┘"
      ]
     },
     "execution_count": 19,
     "metadata": {},
     "output_type": "execute_result"
    }
   ],
   "source": [
    "df_pl = pl.DataFrame(data)\n",
    "df_pl"
   ]
  },
  {
   "cell_type": "markdown",
   "id": "c54b4f3c",
   "metadata": {},
   "source": [
    "Join"
   ]
  },
  {
   "cell_type": "code",
   "execution_count": 16,
   "id": "c55017a0",
   "metadata": {},
   "outputs": [
    {
     "name": "stdout",
     "output_type": "stream",
     "text": [
      "0    a-b-c\n",
      "1    x-y-z\n",
      "Name: a, dtype: object\n",
      "0   NaN\n",
      "1   NaN\n",
      "Name: b, dtype: float64\n"
     ]
    }
   ],
   "source": [
    "print(df_pd['a'].str.join('-'))\n",
    "print(df_pd['b'].str.join('-'))"
   ]
  },
  {
   "cell_type": "code",
   "execution_count": 21,
   "id": "d91464db",
   "metadata": {},
   "outputs": [
    {
     "name": "stdout",
     "output_type": "stream",
     "text": [
      "shape: (2, 1)\n",
      "┌───────┐\n",
      "│ a     │\n",
      "│ ---   │\n",
      "│ str   │\n",
      "╞═══════╡\n",
      "│ a-b-c │\n",
      "│ x-y-z │\n",
      "└───────┘\n",
      "`lst.join` operation not supported for dtype `i64` (expected: String)\n"
     ]
    }
   ],
   "source": [
    "print(df_pl.select(pl.col('a').list.join('-')))\n",
    "try:\n",
    "    df_pl.select(pl.col('b').list.join('-'))\n",
    "except Exception as e:\n",
    "    print(e)"
   ]
  },
  {
   "cell_type": "markdown",
   "id": "0da44acb",
   "metadata": {},
   "source": [
    "Concatenate"
   ]
  },
  {
   "cell_type": "code",
   "execution_count": 26,
   "id": "08af544f",
   "metadata": {},
   "outputs": [
    {
     "name": "stdout",
     "output_type": "stream",
     "text": [
      "0    10AAA\n",
      "1    20BBB\n",
      "dtype: object\n",
      "0    10AAA\n",
      "1    20BBB\n",
      "Name: c, dtype: object\n",
      "0    10|AAA\n",
      "1    20|BBB\n",
      "Name: c, dtype: object\n",
      "0    10@@@AAA\n",
      "1    20@@@BBB\n",
      "dtype: object\n"
     ]
    }
   ],
   "source": [
    "print(df_pd['c'] + df_pd['d'])\n",
    "print(df_pd['c'].str.cat(df_pd['d']))\n",
    "print(df_pd['c'].str.cat(df_pd['d'], sep=\"|\"))\n",
    "print(df_pd['c'] + \"@@@\" + df_pd['d'])"
   ]
  },
  {
   "cell_type": "code",
   "execution_count": 42,
   "id": "600b75e2",
   "metadata": {},
   "outputs": [
    {
     "data": {
      "text/html": [
       "<div><style>\n",
       ".dataframe > thead > tr,\n",
       ".dataframe > tbody > tr {\n",
       "  text-align: right;\n",
       "  white-space: pre-wrap;\n",
       "}\n",
       "</style>\n",
       "<small>shape: (2, 4)</small><table border=\"1\" class=\"dataframe\"><thead><tr><th>concat_str_1</th><th>concat_str_2</th><th>add_1</th><th>add_2</th></tr><tr><td>str</td><td>str</td><td>str</td><td>str</td></tr></thead><tbody><tr><td>&quot;10AAA&quot;</td><td>&quot;10|AAA&quot;</td><td>&quot;10AAA&quot;</td><td>&quot;10@@@AAA&quot;</td></tr><tr><td>&quot;20BBB&quot;</td><td>&quot;20|BBB&quot;</td><td>&quot;20BBB&quot;</td><td>&quot;20@@@BBB&quot;</td></tr></tbody></table></div>"
      ],
      "text/plain": [
       "shape: (2, 4)\n",
       "┌──────────────┬──────────────┬───────┬──────────┐\n",
       "│ concat_str_1 ┆ concat_str_2 ┆ add_1 ┆ add_2    │\n",
       "│ ---          ┆ ---          ┆ ---   ┆ ---      │\n",
       "│ str          ┆ str          ┆ str   ┆ str      │\n",
       "╞══════════════╪══════════════╪═══════╪══════════╡\n",
       "│ 10AAA        ┆ 10|AAA       ┆ 10AAA ┆ 10@@@AAA │\n",
       "│ 20BBB        ┆ 20|BBB       ┆ 20BBB ┆ 20@@@BBB │\n",
       "└──────────────┴──────────────┴───────┴──────────┘"
      ]
     },
     "execution_count": 42,
     "metadata": {},
     "output_type": "execute_result"
    }
   ],
   "source": [
    "df_pl.select(\n",
    "    pl.concat_str([pl.col('c'), pl.col('d')]).alias(\"concat_str_1\"),\n",
    "    pl.concat_str([pl.col('c'), pl.col('d')], separator=\"|\").alias(\"concat_str_2\"),\n",
    "    (pl.col('c') + pl.col('d')).alias('add_1'),\n",
    "    (pl.col('c') + \"@@@\" + pl.col('d')).alias('add_2'),\n",
    ")"
   ]
  },
  {
   "cell_type": "code",
   "execution_count": 44,
   "id": "dc4f7067",
   "metadata": {},
   "outputs": [
    {
     "data": {
      "text/html": [
       "<div><style>\n",
       ".dataframe > thead > tr,\n",
       ".dataframe > tbody > tr {\n",
       "  text-align: right;\n",
       "  white-space: pre-wrap;\n",
       "}\n",
       "</style>\n",
       "<small>shape: (1, 1)</small><table border=\"1\" class=\"dataframe\"><thead><tr><th>c</th></tr><tr><td>str</td></tr></thead><tbody><tr><td>&quot;10@@20&quot;</td></tr></tbody></table></div>"
      ],
      "text/plain": [
       "shape: (1, 1)\n",
       "┌────────┐\n",
       "│ c      │\n",
       "│ ---    │\n",
       "│ str    │\n",
       "╞════════╡\n",
       "│ 10@@20 │\n",
       "└────────┘"
      ]
     },
     "execution_count": 44,
     "metadata": {},
     "output_type": "execute_result"
    }
   ],
   "source": [
    "df_pl.select(pl.col('c').str.join('@@'))"
   ]
  }
 ],
 "metadata": {
  "kernelspec": {
   "display_name": ".venv",
   "language": "python",
   "name": "python3"
  },
  "language_info": {
   "codemirror_mode": {
    "name": "ipython",
    "version": 3
   },
   "file_extension": ".py",
   "mimetype": "text/x-python",
   "name": "python",
   "nbconvert_exporter": "python",
   "pygments_lexer": "ipython3",
   "version": "3.11.11"
  }
 },
 "nbformat": 4,
 "nbformat_minor": 5
}
