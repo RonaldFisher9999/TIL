{
 "cells": [
  {
   "cell_type": "code",
   "execution_count": 1,
   "id": "df7b330f",
   "metadata": {},
   "outputs": [],
   "source": [
    "import numpy as np\n",
    "import torch\n",
    "from numpy import linalg as LA"
   ]
  },
  {
   "cell_type": "code",
   "execution_count": 2,
   "id": "397f969f",
   "metadata": {},
   "outputs": [
    {
     "data": {
      "text/plain": [
       "array([[ 0.20383288,  1.75557777,  0.52428195, -0.04558229, -0.44687874],\n",
       "       [-0.05549705, -2.26703378, -0.12188655,  0.18247987,  0.22043993],\n",
       "       [ 0.63630981,  0.70558821, -2.07699932, -0.88472135,  0.21372526],\n",
       "       [ 0.97902323, -0.312705  , -0.73630494,  1.17942649, -1.21349863]])"
      ]
     },
     "execution_count": 2,
     "metadata": {},
     "output_type": "execute_result"
    }
   ],
   "source": [
    "arr = np.random.randn(4, 5)\n",
    "arr"
   ]
  },
  {
   "cell_type": "code",
   "execution_count": 4,
   "id": "aaee31a9",
   "metadata": {},
   "outputs": [
    {
     "data": {
      "text/plain": [
       "array([[1.89743276],\n",
       "       [2.2889454 ],\n",
       "       [2.45867473],\n",
       "       [2.11235452]])"
      ]
     },
     "execution_count": 4,
     "metadata": {},
     "output_type": "execute_result"
    }
   ],
   "source": [
    "l2_norm = LA.norm(arr, axis=-1, keepdims=True)\n",
    "l2_norm"
   ]
  },
  {
   "cell_type": "code",
   "execution_count": 5,
   "id": "55d4652d",
   "metadata": {},
   "outputs": [
    {
     "data": {
      "text/plain": [
       "array([[ 0.10742561,  0.92523846,  0.27631121, -0.02402314, -0.23551756],\n",
       "       [-0.02424569, -0.9904272 , -0.05325009,  0.07972225,  0.09630633],\n",
       "       [ 0.25880195,  0.28697908, -0.84476376, -0.35983668,  0.08692702],\n",
       "       [ 0.46347487, -0.14803623, -0.34857072,  0.55834685, -0.57447678]])"
      ]
     },
     "execution_count": 5,
     "metadata": {},
     "output_type": "execute_result"
    }
   ],
   "source": [
    "arr_normalized = arr / l2_norm\n",
    "arr_normalized"
   ]
  },
  {
   "cell_type": "code",
   "execution_count": 9,
   "id": "f8abd3d0",
   "metadata": {},
   "outputs": [
    {
     "data": {
      "text/plain": [
       "tensor([[ 0.1074,  0.9252,  0.2763, -0.0240, -0.2355],\n",
       "        [-0.0242, -0.9904, -0.0533,  0.0797,  0.0963],\n",
       "        [ 0.2588,  0.2870, -0.8448, -0.3598,  0.0869],\n",
       "        [ 0.4635, -0.1480, -0.3486,  0.5583, -0.5745]], dtype=torch.float64)"
      ]
     },
     "execution_count": 9,
     "metadata": {},
     "output_type": "execute_result"
    }
   ],
   "source": [
    "t = torch.from_numpy(arr)\n",
    "t_normalized = torch.nn.functional.normalize(t, p=2.0, dim=-1)\n",
    "t_normalized"
   ]
  }
 ],
 "metadata": {
  "kernelspec": {
   "display_name": ".venv",
   "language": "python",
   "name": "python3"
  },
  "language_info": {
   "codemirror_mode": {
    "name": "ipython",
    "version": 3
   },
   "file_extension": ".py",
   "mimetype": "text/x-python",
   "name": "python",
   "nbconvert_exporter": "python",
   "pygments_lexer": "ipython3",
   "version": "3.11.11"
  }
 },
 "nbformat": 4,
 "nbformat_minor": 5
}
