{
 "cells": [
  {
   "cell_type": "markdown",
   "id": "575a1e51",
   "metadata": {},
   "source": [
    "## Random Sampling\n",
    "- Using `np.random.choice` without replacement is usually slower than `random.sample`.\n",
    "- If replacement does not matter, using either `np.random.choice` or `np.random.randint` with indexing is both fine."
   ]
  },
  {
   "cell_type": "code",
   "execution_count": 118,
   "id": "5dfdfde0",
   "metadata": {},
   "outputs": [],
   "source": [
    "import os\n",
    "import sys\n",
    "\n",
    "sys.path.append(os.path.abspath(os.path.join('..')))\n",
    "\n",
    "import random\n",
    "\n",
    "import numpy as np\n",
    "\n",
    "from utils import measure_exec_time"
   ]
  },
  {
   "cell_type": "code",
   "execution_count": null,
   "id": "50e4876a",
   "metadata": {},
   "outputs": [],
   "source": [
    "n = 1_000_000\n",
    "k = 1000\n",
    "arr = np.arange(n)"
   ]
  },
  {
   "cell_type": "code",
   "execution_count": null,
   "id": "c9ca8173",
   "metadata": {},
   "outputs": [
    {
     "name": "stdout",
     "output_type": "stream",
     "text": [
      "Numpy without replacement\n",
      "Mean: 17.714 ms, Std: 1.952 ms\n",
      "Random module without replacement\n",
      "Mean: 0.240 ms, Std: 0.024 ms\n",
      "Numpy with replacement\n",
      "Mean: 0.027 ms, Std: 0.007 ms\n",
      "randint\n",
      "Mean: 0.008 ms, Std: 0.001 ms\n"
     ]
    }
   ],
   "source": [
    "print('Numpy without replacement')\n",
    "measure_exec_time(np.random.choice, arr, k, False)\n",
    "\n",
    "print('Random module without replacement')\n",
    "measure_exec_time(random.sample, range(n), k)\n",
    "\n",
    "print('Numpy with replacement')\n",
    "measure_exec_time(np.random.choice, arr, k, True)\n",
    "\n",
    "print('Numpy randint')\n",
    "measure_exec_time(np.random.randint, 0, n, k)"
   ]
  }
 ],
 "metadata": {
  "kernelspec": {
   "display_name": ".venv",
   "language": "python",
   "name": "python3"
  },
  "language_info": {
   "codemirror_mode": {
    "name": "ipython",
    "version": 3
   },
   "file_extension": ".py",
   "mimetype": "text/x-python",
   "name": "python",
   "nbconvert_exporter": "python",
   "pygments_lexer": "ipython3",
   "version": "3.11.11"
  }
 },
 "nbformat": 4,
 "nbformat_minor": 5
}
